{
 "cells": [
  {
   "cell_type": "code",
   "execution_count": 1,
   "metadata": {
    "tags": []
   },
   "outputs": [
    {
     "name": "stdout",
     "output_type": "stream",
     "text": [
      "Defaulting to user installation because normal site-packages is not writeable\n",
      "Requirement already satisfied: numpy in /home/douglasnacl/.local/lib/python3.10/site-packages (1.22.1)\n",
      "Defaulting to user installation because normal site-packages is not writeable\n",
      "Requirement already satisfied: yahooquery in /home/douglasnacl/.local/lib/python3.10/site-packages (2.2.15)\n",
      "Requirement already satisfied: requests-futures>=1.0.0 in /home/douglasnacl/.local/lib/python3.10/site-packages (from yahooquery) (1.0.0)\n",
      "Requirement already satisfied: tqdm>=4.54.1 in /home/douglasnacl/.local/lib/python3.10/site-packages (from yahooquery) (4.62.3)\n",
      "Requirement already satisfied: lxml>=4.6.2 in /usr/lib/python3.10/site-packages (from yahooquery) (4.6.5)\n",
      "Requirement already satisfied: pandas>=0.24.0 in /home/douglasnacl/.local/lib/python3.10/site-packages (from yahooquery) (1.3.5)\n",
      "Requirement already satisfied: pytz>=2017.3 in /home/douglasnacl/.local/lib/python3.10/site-packages (from pandas>=0.24.0->yahooquery) (2021.3)\n",
      "Requirement already satisfied: python-dateutil>=2.7.3 in /home/douglasnacl/.local/lib/python3.10/site-packages (from pandas>=0.24.0->yahooquery) (2.8.2)\n",
      "Requirement already satisfied: numpy>=1.21.0 in /home/douglasnacl/.local/lib/python3.10/site-packages (from pandas>=0.24.0->yahooquery) (1.22.1)\n",
      "Requirement already satisfied: six>=1.5 in /usr/lib/python3.10/site-packages (from python-dateutil>=2.7.3->pandas>=0.24.0->yahooquery) (1.16.0)\n",
      "Requirement already satisfied: requests>=1.2.0 in /usr/lib/python3.10/site-packages (from requests-futures>=1.0.0->yahooquery) (2.26.0)\n",
      "Requirement already satisfied: chardet>=3.0.2 in /usr/lib/python3.10/site-packages (from requests>=1.2.0->requests-futures>=1.0.0->yahooquery) (4.0.0)\n",
      "Requirement already satisfied: idna>=2.5 in /usr/lib/python3.10/site-packages (from requests>=1.2.0->requests-futures>=1.0.0->yahooquery) (3.3)\n",
      "Requirement already satisfied: urllib3>=1.21.1 in /usr/lib/python3.10/site-packages (from requests>=1.2.0->requests-futures>=1.0.0->yahooquery) (1.26.7)\n"
     ]
    }
   ],
   "source": [
    "!pip install numpy\n",
    "!pip install yfinance"
   ]
  },
  {
   "cell_type": "markdown",
   "metadata": {},
   "source": [
    "# Lista de frameworks e bibliotecas\n",
    "\n",
    "$$ \\frac {x_1}{x_2} $$"
   ]
  },
  {
   "cell_type": "code",
   "execution_count": 192,
   "metadata": {},
   "outputs": [],
   "source": [
    "import numpy as np\n",
    "import pandas as pd\n",
    "import yfinance as yf # https://github.com/ranaroussi/yfinance\n",
    "from multipledispatch import dispatch\n",
    "import logging\n",
    "import os"
   ]
  },
  {
   "cell_type": "markdown",
   "metadata": {},
   "source": [
    "# Environment Variable"
   ]
  },
  {
   "cell_type": "code",
   "execution_count": 193,
   "metadata": {},
   "outputs": [],
   "source": [
    "STOCK_NAME = \"USDBRL=X\"\n",
    "ASSETS_URL = \"assets/\"\n",
    "FILE_NAME = \"usd2brl.csv\"\n",
    "FILE_URL = ASSETS_URL + FILE_NAME\n",
    "LOG_PATH = \"logs/\""
   ]
  },
  {
   "cell_type": "markdown",
   "metadata": {},
   "source": [
    "# Logs"
   ]
  },
  {
   "cell_type": "code",
   "execution_count": 200,
   "metadata": {},
   "outputs": [],
   "source": [
    "def logging_basic_config(path):\n",
    "    if not os.path.exists(path):\n",
    "        os.mkdir(path)\n",
    "        \n",
    "    logging.basicConfig(\n",
    "        handlers = [\n",
    "            logging.FileHandler(f'{path}{datetime.now()}.log'),\n",
    "            logging.StreamHandler()\n",
    "        ],\n",
    "        format=\"%(asctime)s - %(levelname)s - %(message)s\",\n",
    "        level=logging.DEBUG,\n",
    "        datefmt=\"%d-%b-%y %H:%M:%S\",\n",
    "    )"
   ]
  },
  {
   "cell_type": "code",
   "execution_count": 201,
   "metadata": {},
   "outputs": [],
   "source": [
    "logging_basic_config(path=LOG_PATH)"
   ]
  },
  {
   "cell_type": "markdown",
   "metadata": {
    "tags": []
   },
   "source": [
    "# Obtendo dados"
   ]
  },
  {
   "cell_type": "code",
   "execution_count": 202,
   "metadata": {},
   "outputs": [],
   "source": [
    "class Database(yf.Ticker):\n",
    "    def __init__(self, stock_name: str):\n",
    "        self.stock_name = stock_name\n",
    "        \n",
    "    def connect(self):\n",
    "        try:\n",
    "            self.database = yf.Ticker(self.stock_name)\n",
    "        except OverflowError as e:\n",
    "            raise e\n",
    "    \n",
    "    def set_period(self, period: str):\n",
    "        self.period = period\n",
    "        \n",
    "    def set_interval(self, interval: str):\n",
    "        self.interval = interval\n",
    "        \n",
    "    @dispatch()\n",
    "    def get_data(self) -> pd.DataFrame:\n",
    "        try:\n",
    "            dataframe =  pd.DataFrame(self.database.history(period=self.period, interval=self.interval))\n",
    "            dataframe = dataframe.reset_index()\n",
    "            try:\n",
    "                return dataframe[['Date', 'Open','High','Low','Close']]\n",
    "            except:\n",
    "                return dataframe[['Datetime',  'Open','High','Low','Close']]\n",
    "        except:\n",
    "            pass\n",
    "    \n",
    "    @dispatch(datetime, datetime)\n",
    "    def get_data(self, start_date: datetime, end_date: datetime):\n",
    "        try: \n",
    "            dataframe = self.database.history(period=self.period, interval=self.interval, start=start_date, end=end_date)\n",
    "            dataframe = dataframe.reset_index()\n",
    "            try:\n",
    "                return dataframe[['Date', 'Open','High','Low','Close']]\n",
    "            except:\n",
    "                return dataframe[['Datetime',  'Open','High','Low','Close']]\n",
    "        except :\n",
    "            pass\n",
    "    \n",
    "    def export_csv(self, path: str, file_name: str):\n",
    "        \n",
    "        pathfile = path + file_name\n",
    "        \n",
    "        dataframe = self.get_data()\n",
    "        if not os.path.exists(path):\n",
    "            os.mkdir(path)\n",
    "        \n",
    "        files_present = os.path.isfile(pathfile) \n",
    "        if not files_present:\n",
    "            loggin.info(f\"The file {file_name} is being written\")\n",
    "            dataframe.to_csv(pathfile)\n",
    "        else:\n",
    "            logging.info(\"The file already exists, it will be deleted and rewritten\")\n",
    "            os.remove(pathfile)\n",
    "            dataframe.to_csv(pathfile)"
   ]
  },
  {
   "cell_type": "code",
   "execution_count": 203,
   "metadata": {},
   "outputs": [],
   "source": [
    "database = Database(stock_name=STOCK_NAME)\n",
    "database.connect()\n",
    "database.set_period('7d')\n",
    "database.set_interval('1m')"
   ]
  },
  {
   "cell_type": "code",
   "execution_count": 204,
   "metadata": {},
   "outputs": [
    {
     "name": "stdout",
     "output_type": "stream",
     "text": [
      "assets/usd2brl.csv\n"
     ]
    }
   ],
   "source": [
    "print(FILE_URL)\n",
    "database.export_csv(ASSETS_URL, FILE_NAME)"
   ]
  },
  {
   "cell_type": "markdown",
   "metadata": {},
   "source": [
    "# Carregando dados CSV"
   ]
  },
  {
   "cell_type": "code",
   "execution_count": null,
   "metadata": {},
   "outputs": [],
   "source": []
  }
 ],
 "metadata": {
  "kernelspec": {
   "display_name": "Python 3 (ipykernel)",
   "language": "python",
   "name": "python3"
  },
  "language_info": {
   "codemirror_mode": {
    "name": "ipython",
    "version": 3
   },
   "file_extension": ".py",
   "mimetype": "text/x-python",
   "name": "python",
   "nbconvert_exporter": "python",
   "pygments_lexer": "ipython3",
   "version": "3.10.2"
  }
 },
 "nbformat": 4,
 "nbformat_minor": 4
}
