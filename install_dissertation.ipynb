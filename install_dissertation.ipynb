{
 "cells": [
  {
   "cell_type": "markdown",
   "metadata": {},
   "source": [
    "# Instalando ambiente de desenvolvimento\n",
    "\n",
    "Para tal, mude o status do campo abaixo para code e execute"
   ]
  },
  {
   "cell_type": "code",
   "execution_count": 1,
   "metadata": {
    "jp-MarkdownHeadingCollapsed": true,
    "tags": []
   },
   "outputs": [],
   "source": [
    "# !pip install numpy\n",
    "# !pip install pandas\n",
    "# !pip install multipledispatch\n",
    "# !pip install yfinance\n",
    "# !pip install gym\n",
    "# !pip install stable-baselines gym-anytrading gym\n",
    "# !pip install -U scikit-learn"
   ]
  },
  {
   "cell_type": "markdown",
   "metadata": {},
   "source": [
    "# Lista de frameworks e bibliotecas\n",
    "\n",
    "$$ \\frac {x_1}{x_2} $$"
   ]
  },
  {
   "cell_type": "code",
   "execution_count": 7,
   "metadata": {},
   "outputs": [],
   "source": [
    "import numpy as np\n",
    "import pandas as pd\n",
    "import yfinance as yf # https://github.com/ranaroussi/yfinance\n",
    "from multipledispatch import dispatch\n",
    "from datetime import datetime, timedelta\n",
    "import gym\n",
    "import os"
   ]
  },
  {
   "cell_type": "markdown",
   "metadata": {},
   "source": [
    "# Environment Variable"
   ]
  },
  {
   "cell_type": "code",
   "execution_count": 3,
   "metadata": {},
   "outputs": [],
   "source": [
    "STOCK_NAME = \"USDBRL=X\"\n",
    "ASSETS_URL = \"assets/\"\n",
    "FILE_NAME = \"usd2brl.csv\"\n",
    "FILE_URL = ASSETS_URL + FILE_NAME\n",
    "LOG_PATH = \"logs/\"\n",
    "PERIOD = \"7d\" # 7 days\n",
    "INTERVAL = \"1m\" # 1 minute"
   ]
  },
  {
   "cell_type": "markdown",
   "metadata": {
    "tags": []
   },
   "source": [
    "# Obtendo dados"
   ]
  },
  {
   "cell_type": "code",
   "execution_count": 7,
   "metadata": {},
   "outputs": [],
   "source": [
    "class Database(yf.Ticker):\n",
    "    STOCK_NAME = \"USDBRL=X\"\n",
    "    PERIOD = \"7d\" # 7 days\n",
    "    INTERVAL = \"1m\" # 1 minute\n",
    "    \n",
    "    def __init__(self, stock_name: str):\n",
    "        self.STOCK_NAME = stock_name\n",
    "        \n",
    "    def connect(self):\n",
    "        try:\n",
    "            return yf.Ticker(self.STOCK_NAME)\n",
    "        except OverflowError as e:\n",
    "            raise e\n",
    "    \n",
    "    def set_period(self, period: str):\n",
    "        self.PERIOD = period\n",
    "        \n",
    "    def set_interval(self, interval: str):\n",
    "        self.INTERVAL = interval\n",
    "        \n",
    "    @dispatch()\n",
    "    def get_data(self) -> pd.DataFrame:\n",
    "        try:\n",
    "            database = self.connect()\n",
    "            dataframe =  pd.DataFrame(database.history(period=self.PERIOD, interval=self.INTERVAL))\n",
    "            dataframe = dataframe.reset_index()\n",
    "            try:\n",
    "                return dataframe[['Date', 'Open','High','Low','Close']]\n",
    "            except:\n",
    "                return dataframe[['Datetime',  'Open','High','Low','Close']]\n",
    "        except:\n",
    "            pass\n",
    "\n",
    "    @dispatch(datetime, datetime)\n",
    "    def get_data(self, start_date: datetime, end_date: datetime):\n",
    "        try: \n",
    "            database = self.connect()\n",
    "            dataframe = self.database.history(period=self.PERIOD, interval=self.INTERVAL, start=start_date, end=end_date)\n",
    "            dataframe = dataframe.reset_index()\n",
    "            try:\n",
    "                return dataframe[['Date', 'Open','High','Low','Close']]\n",
    "            except:\n",
    "                return dataframe[['Datetime',  'Open','High','Low','Close']]\n",
    "        except :\n",
    "            pass\n",
    "    \n",
    "    def export_csv(self, path: str, file_name: str):\n",
    "        \n",
    "        pathfile = path + file_name\n",
    "        \n",
    "        dataframe = self.get_data()\n",
    "        if not os.path.exists(path):\n",
    "            os.mkdir(path)\n",
    "        files_present = os.path.isfile(pathfile) \n",
    "        if not files_present:\n",
    "            # loggin.info(f\"The file {file_name} is being written\")\n",
    "            dataframe.to_csv(pathfile)\n",
    "            print(dataframe)\n",
    "        else:\n",
    "            # logging.info(\"The file already exists, it will be deleted and rewritten\")\n",
    "            os.remove(pathfile)\n",
    "            dataframe.to_csv(pathfile)"
   ]
  },
  {
   "cell_type": "code",
   "execution_count": 8,
   "metadata": {},
   "outputs": [],
   "source": [
    "data = Database(STOCK_NAME)\n",
    "data.export_csv(ASSETS_URL, FILE_NAME)"
   ]
  },
  {
   "cell_type": "markdown",
   "metadata": {},
   "source": [
    "# Carregando dados CSV"
   ]
  },
  {
   "cell_type": "code",
   "execution_count": 4,
   "metadata": {},
   "outputs": [
    {
     "data": {
      "text/html": [
       "<div>\n",
       "<style scoped>\n",
       "    .dataframe tbody tr th:only-of-type {\n",
       "        vertical-align: middle;\n",
       "    }\n",
       "\n",
       "    .dataframe tbody tr th {\n",
       "        vertical-align: top;\n",
       "    }\n",
       "\n",
       "    .dataframe thead th {\n",
       "        text-align: right;\n",
       "    }\n",
       "</style>\n",
       "<table border=\"1\" class=\"dataframe\">\n",
       "  <thead>\n",
       "    <tr style=\"text-align: right;\">\n",
       "      <th></th>\n",
       "      <th>Datetime</th>\n",
       "      <th>Open</th>\n",
       "      <th>High</th>\n",
       "      <th>Low</th>\n",
       "      <th>Close</th>\n",
       "    </tr>\n",
       "  </thead>\n",
       "  <tbody>\n",
       "    <tr>\n",
       "      <th>0</th>\n",
       "      <td>2022-02-02 00:00:00+00:00</td>\n",
       "      <td>5.2735</td>\n",
       "      <td>5.2735</td>\n",
       "      <td>5.2735</td>\n",
       "      <td>5.2735</td>\n",
       "    </tr>\n",
       "    <tr>\n",
       "      <th>1</th>\n",
       "      <td>2022-02-02 00:30:00+00:00</td>\n",
       "      <td>5.2735</td>\n",
       "      <td>5.2735</td>\n",
       "      <td>5.2735</td>\n",
       "      <td>5.2735</td>\n",
       "    </tr>\n",
       "    <tr>\n",
       "      <th>2</th>\n",
       "      <td>2022-02-02 00:31:00+00:00</td>\n",
       "      <td>5.2735</td>\n",
       "      <td>5.2735</td>\n",
       "      <td>5.2735</td>\n",
       "      <td>5.2735</td>\n",
       "    </tr>\n",
       "    <tr>\n",
       "      <th>3</th>\n",
       "      <td>2022-02-02 00:32:00+00:00</td>\n",
       "      <td>5.2735</td>\n",
       "      <td>5.2735</td>\n",
       "      <td>5.2735</td>\n",
       "      <td>5.2735</td>\n",
       "    </tr>\n",
       "    <tr>\n",
       "      <th>4</th>\n",
       "      <td>2022-02-02 00:33:00+00:00</td>\n",
       "      <td>5.2735</td>\n",
       "      <td>5.2735</td>\n",
       "      <td>5.2735</td>\n",
       "      <td>5.2735</td>\n",
       "    </tr>\n",
       "    <tr>\n",
       "      <th>...</th>\n",
       "      <td>...</td>\n",
       "      <td>...</td>\n",
       "      <td>...</td>\n",
       "      <td>...</td>\n",
       "      <td>...</td>\n",
       "    </tr>\n",
       "    <tr>\n",
       "      <th>4252</th>\n",
       "      <td>2022-02-10 00:54:00+00:00</td>\n",
       "      <td>5.2176</td>\n",
       "      <td>5.2176</td>\n",
       "      <td>5.2176</td>\n",
       "      <td>5.2176</td>\n",
       "    </tr>\n",
       "    <tr>\n",
       "      <th>4253</th>\n",
       "      <td>2022-02-10 00:55:00+00:00</td>\n",
       "      <td>5.2176</td>\n",
       "      <td>5.2176</td>\n",
       "      <td>5.2176</td>\n",
       "      <td>5.2176</td>\n",
       "    </tr>\n",
       "    <tr>\n",
       "      <th>4254</th>\n",
       "      <td>2022-02-10 01:10:00+00:00</td>\n",
       "      <td>5.2176</td>\n",
       "      <td>5.2176</td>\n",
       "      <td>5.2176</td>\n",
       "      <td>5.2176</td>\n",
       "    </tr>\n",
       "    <tr>\n",
       "      <th>4255</th>\n",
       "      <td>2022-02-10 01:30:00+00:00</td>\n",
       "      <td>5.2176</td>\n",
       "      <td>5.2176</td>\n",
       "      <td>5.2176</td>\n",
       "      <td>5.2176</td>\n",
       "    </tr>\n",
       "    <tr>\n",
       "      <th>4256</th>\n",
       "      <td>2022-02-10 01:31:30+00:00</td>\n",
       "      <td>5.2176</td>\n",
       "      <td>5.2176</td>\n",
       "      <td>5.2176</td>\n",
       "      <td>5.2176</td>\n",
       "    </tr>\n",
       "  </tbody>\n",
       "</table>\n",
       "<p>4257 rows × 5 columns</p>\n",
       "</div>"
      ],
      "text/plain": [
       "                       Datetime    Open    High     Low   Close\n",
       "0     2022-02-02 00:00:00+00:00  5.2735  5.2735  5.2735  5.2735\n",
       "1     2022-02-02 00:30:00+00:00  5.2735  5.2735  5.2735  5.2735\n",
       "2     2022-02-02 00:31:00+00:00  5.2735  5.2735  5.2735  5.2735\n",
       "3     2022-02-02 00:32:00+00:00  5.2735  5.2735  5.2735  5.2735\n",
       "4     2022-02-02 00:33:00+00:00  5.2735  5.2735  5.2735  5.2735\n",
       "...                         ...     ...     ...     ...     ...\n",
       "4252  2022-02-10 00:54:00+00:00  5.2176  5.2176  5.2176  5.2176\n",
       "4253  2022-02-10 00:55:00+00:00  5.2176  5.2176  5.2176  5.2176\n",
       "4254  2022-02-10 01:10:00+00:00  5.2176  5.2176  5.2176  5.2176\n",
       "4255  2022-02-10 01:30:00+00:00  5.2176  5.2176  5.2176  5.2176\n",
       "4256  2022-02-10 01:31:30+00:00  5.2176  5.2176  5.2176  5.2176\n",
       "\n",
       "[4257 rows x 5 columns]"
      ]
     },
     "execution_count": 4,
     "metadata": {},
     "output_type": "execute_result"
    }
   ],
   "source": [
    "dataset = pd.read_csv(ASSETS_URL + FILE_NAME)\n",
    "dataset = dataset.iloc[:, 1:] \n",
    "dataset"
   ]
  },
  {
   "cell_type": "code",
   "execution_count": 9,
   "metadata": {},
   "outputs": [
    {
     "ename": "ModuleNotFoundError",
     "evalue": "No module named 'gym_anytrading'",
     "output_type": "error",
     "traceback": [
      "\u001b[0;31m---------------------------------------------------------------------------\u001b[0m",
      "\u001b[0;31mModuleNotFoundError\u001b[0m                       Traceback (most recent call last)",
      "\u001b[0;32m<ipython-input-9-ccdfd6a5bb5c>\u001b[0m in \u001b[0;36m<module>\u001b[0;34m\u001b[0m\n\u001b[1;32m      1\u001b[0m \u001b[0;31m# Gym stuff\u001b[0m\u001b[0;34m\u001b[0m\u001b[0;34m\u001b[0m\u001b[0;34m\u001b[0m\u001b[0m\n\u001b[1;32m      2\u001b[0m \u001b[0;32mimport\u001b[0m \u001b[0mgym\u001b[0m\u001b[0;34m\u001b[0m\u001b[0;34m\u001b[0m\u001b[0m\n\u001b[0;32m----> 3\u001b[0;31m \u001b[0;32mimport\u001b[0m \u001b[0mgym_anytrading\u001b[0m\u001b[0;34m\u001b[0m\u001b[0;34m\u001b[0m\u001b[0m\n\u001b[0m\u001b[1;32m      4\u001b[0m \u001b[0;34m\u001b[0m\u001b[0m\n\u001b[1;32m      5\u001b[0m \u001b[0;31m# stable baselines\u001b[0m\u001b[0;34m\u001b[0m\u001b[0;34m\u001b[0m\u001b[0;34m\u001b[0m\u001b[0m\n",
      "\u001b[0;31mModuleNotFoundError\u001b[0m: No module named 'gym_anytrading'"
     ]
    }
   ],
   "source": [
    "# Gym stuff\n",
    "import gym\n",
    "import gym_anytrading \n",
    "\n",
    "# stable baselines\n",
    "from stable_baselines.common.vec_env import DummyVecEnv\n",
    "from stable_baselines import A2C\n",
    "\n",
    "# processing libraries\n",
    "import numpy as np\n",
    "import pandas as pd\n",
    "from matplotlib import pyplot as plt\n",
    "\n",
    "https://www.youtube.com/watch?v=D9sU1hLT0QY&ab_channel=NicholasRenotte\n"
   ]
  },
  {
   "cell_type": "code",
   "execution_count": null,
   "metadata": {},
   "outputs": [],
   "source": []
  }
 ],
 "metadata": {
  "kernelspec": {
   "display_name": "Python 3",
   "language": "python",
   "name": "python3"
  },
  "language_info": {
   "codemirror_mode": {
    "name": "ipython",
    "version": 3
   },
   "file_extension": ".py",
   "mimetype": "text/x-python",
   "name": "python",
   "nbconvert_exporter": "python",
   "pygments_lexer": "ipython3",
   "version": "3.8.8"
  }
 },
 "nbformat": 4,
 "nbformat_minor": 4
}
